{
 "cells": [
  {
   "cell_type": "code",
   "execution_count": 24,
   "metadata": {},
   "outputs": [],
   "source": [
    "import mysql.connector\n",
    "import sys\n",
    "import os\n",
    "import pandas as pd"
   ]
  },
  {
   "cell_type": "code",
   "execution_count": 4,
   "metadata": {},
   "outputs": [],
   "source": [
    "credentials_path = r'E:\\StuDY\\FIT5120\\db_keys'\n",
    "sys.path.append(credentials_path)\n",
    "from db_keys import mysql_host, mysql_user, mysql_password, mysql_database"
   ]
  },
  {
   "cell_type": "code",
   "execution_count": 43,
   "metadata": {},
   "outputs": [],
   "source": [
    "import pymysql\n",
    "\n",
    "# Connect to your MySQL database\n",
    "\n",
    "mydb = mysql.connector.connect(\n",
    "    host=mysql_host,\n",
    "    user=mysql_user,\n",
    "    password=mysql_password,\n",
    "    database=mysql_database\n",
    ")\n",
    "\n",
    "mycursor = mydb.cursor()"
   ]
  },
  {
   "cell_type": "code",
   "execution_count": 39,
   "metadata": {},
   "outputs": [],
   "source": [
    "df = pd.read_excel('2020_median_income.xlsx')\n",
    "# Reshape the DataFrame into the format required for the 'individual' table\n",
    "df_females = df[['STATE', 'Age Range', 'Females']].rename(columns={'Females': 'med_salary'})\n",
    "df_females['gender'] = 'F'\n",
    "df_females['med_salary'] = df_females['med_salary'].astype(int)\n",
    "df_males = df[['STATE', 'Age Range', 'Males']].rename(columns={'Males': 'med_salary'})\n",
    "df_males['gender'] = 'M'\n",
    "df_males['med_salary'] = df_males['med_salary'].astype(int)\n",
    "df_individual = pd.concat([df_females, df_males], ignore_index=True)\n",
    "df_individual['med_salary'] = df_individual['med_salary'].astype(int)"
   ]
  },
  {
   "cell_type": "code",
   "execution_count": 26,
   "metadata": {},
   "outputs": [],
   "source": [
    "# Insert gender data into the `gender` table\n",
    "\n",
    "gender_data = [\n",
    "    ('F', 'Female'),\n",
    "    ('M', 'Male'),\n",
    "]\n",
    "\n",
    "sql = \"INSERT INTO gender (gender, gender_desc) VALUES (%s, %s)\"\n",
    "val = gender_data\n",
    "mycursor.executemany(sql, val)\n",
    "\n",
    "mydb.commit()"
   ]
  },
  {
   "cell_type": "code",
   "execution_count": 27,
   "metadata": {},
   "outputs": [],
   "source": [
    "# Insert state data into the `state` table\n",
    "state_data = [\n",
    "    ('ACT', 'Australian Capital Territory'),\n",
    "    ('NSW', 'New South Wales'),\n",
    "    ('NT', 'Northern Territory'),\n",
    "    ('QLD', 'Queensland'),\n",
    "    ('SA', 'South Australia'),\n",
    "    ('TAS', 'Tasmania'),\n",
    "    ('VIC', 'Victoria'),\n",
    "    ('WA', 'Western Australia')\n",
    "]\n",
    "\n",
    "sql = \"INSERT INTO state (state_abr, state_name) VALUES (%s, %s)\"\n",
    "val = state_data\n",
    "mycursor.executemany(sql, val)\n",
    "\n",
    "mydb.commit()"
   ]
  },
  {
   "cell_type": "code",
   "execution_count": 44,
   "metadata": {},
   "outputs": [
    {
     "ename": "",
     "evalue": "",
     "output_type": "error",
     "traceback": [
      "\u001b[1;31mThe Kernel crashed while executing code in the the current cell or a previous cell. Please review the code in the cell(s) to identify a possible cause of the failure. Click <a href='https://aka.ms/vscodeJupyterKernelCrash'>here</a> for more info. View Jupyter <a href='command:jupyter.viewOutput'>log</a> for further details."
     ]
    }
   ],
   "source": [
    "try:\n",
    "\n",
    "    # Insert individual data\n",
    "    for index, row in df_individual.iterrows():\n",
    "        sql = f\"\"\"\n",
    "        INSERT INTO individual (state_abr, age_range, gender, med_salary)\n",
    "        VALUES ('{row['STATE']}', '{row['Age Range']}', '{row['gender']}', {row['med_salary']});\n",
    "        \"\"\"\n",
    "        mycursor.execute(sql)\n",
    "\n",
    "    mydb.commit()\n",
    "\n",
    "finally:\n",
    "    mydb.close()"
   ]
  },
  {
   "cell_type": "code",
   "execution_count": null,
   "metadata": {},
   "outputs": [],
   "source": []
  }
 ],
 "metadata": {
  "kernelspec": {
   "display_name": "base",
   "language": "python",
   "name": "python3"
  },
  "language_info": {
   "codemirror_mode": {
    "name": "ipython",
    "version": 3
   },
   "file_extension": ".py",
   "mimetype": "text/x-python",
   "name": "python",
   "nbconvert_exporter": "python",
   "pygments_lexer": "ipython3",
   "version": "3.8.8"
  },
  "orig_nbformat": 4
 },
 "nbformat": 4,
 "nbformat_minor": 2
}
