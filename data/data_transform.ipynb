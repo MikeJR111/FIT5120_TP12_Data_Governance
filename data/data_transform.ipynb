{
 "cells": [
  {
   "cell_type": "code",
   "execution_count": 6,
   "metadata": {},
   "outputs": [],
   "source": [
    "\n",
    "import pandas as pd"
   ]
  },
  {
   "cell_type": "code",
   "execution_count": 46,
   "metadata": {},
   "outputs": [],
   "source": [
    "G = ['Male '*5,'Female '*5,'Person '*5]\n",
    "Gender = []\n",
    "for gender in G:\n",
    "    l = gender.split(' ')\n",
    "    for g in l:\n",
    "        if len(g) != 0 :\n",
    "            Gender.append(g)\n",
    "Gender = Gender*3\n",
    "job = ['Number of Jobs'] * 15\n",
    "income = ['Median Income per Job'] * 15\n",
    "adjusted_income = ['Duration Adjusted Income per Job']*15\n",
    "Category= []\n",
    "Category.extend(job)\n",
    "Category.extend(income)\n",
    "Category.extend(adjusted_income)\n"
   ]
  },
  {
   "cell_type": "code",
   "execution_count": 47,
   "metadata": {},
   "outputs": [],
   "source": [
    "newData = pd.read_excel('state_data.xlsx', sheet_name='Sheet1')\n",
    "newData = newData.drop(['Unnamed: 1'], axis=1)\n",
    "df_transposed = newData.T\n",
    "df_transposed.columns = df_transposed.iloc[0]\n",
    "df_transposed = df_transposed[1:]\n",
    "col = df_transposed.columns.tolist()\n",
    "col[0] = 'Year'\n",
    "df_transposed.columns = col\n",
    "df_transposed['Gender'] = Gender\n",
    "df_transposed['Category'] = Category\n",
    "df_transposed.reset_index(drop=True)\n",
    "df_transposed.index = range(len(df_transposed.index))"
   ]
  },
  {
   "cell_type": "code",
   "execution_count": 59,
   "metadata": {},
   "outputs": [],
   "source": [
    "df_transposed.to_excel('output.xlsx')"
   ]
  },
  {
   "cell_type": "code",
   "execution_count": 69,
   "metadata": {},
   "outputs": [],
   "source": [
    "states = df_transposed.columns[2:10].tolist()\n",
    "state_abbreviations_list  = ['NSW', 'VIC', 'QLD', 'SA', 'WA', 'TAS', 'NT', 'ACT']"
   ]
  },
  {
   "cell_type": "code",
   "execution_count": 70,
   "metadata": {},
   "outputs": [
    {
     "name": "stderr",
     "output_type": "stream",
     "text": [
      "<ipython-input-70-ac72df8564cf>:6: SettingWithCopyWarning: \n",
      "A value is trying to be set on a copy of a slice from a DataFrame.\n",
      "Try using .loc[row_indexer,col_indexer] = value instead\n",
      "\n",
      "See the caveats in the documentation: https://pandas.pydata.org/pandas-docs/stable/user_guide/indexing.html#returning-a-view-versus-a-copy\n",
      "  df['State'] = state_abbreviations_list[i]\n"
     ]
    }
   ],
   "source": [
    "dfs = []\n",
    "\n",
    "for i in range(len(states)):\n",
    "    df = df_transposed[[states[i],'Year','Category','Gender']]\n",
    "    df.columns = ['Value','Year','Category','Gender']\n",
    "    df['State'] = state_abbreviations_list[i]\n",
    "    dfs.append(df)\n"
   ]
  },
  {
   "cell_type": "code",
   "execution_count": 86,
   "metadata": {},
   "outputs": [],
   "source": [
    "df = pd.concat(dfs)\n",
    "df.to_excel('output.xlsx',index=False)"
   ]
  },
  {
   "cell_type": "code",
   "execution_count": 90,
   "metadata": {},
   "outputs": [
    {
     "data": {
      "text/plain": [
       "'2019-20'"
      ]
     },
     "execution_count": 90,
     "metadata": {},
     "output_type": "execute_result"
    }
   ],
   "source": [
    "newData = pd.read_excel('state2.xlsx')\n",
    "newData = newData.drop(['STATE NAME'], axis=1)\n",
    "newData.columns[-1]"
   ]
  },
  {
   "cell_type": "code",
   "execution_count": 91,
   "metadata": {},
   "outputs": [],
   "source": [
    "new_df = newData.pivot_table(index=['STATE', 'Age Range'], columns='Sex', values='2019-20').reset_index()"
   ]
  },
  {
   "cell_type": "code",
   "execution_count": 94,
   "metadata": {},
   "outputs": [
    {
     "data": {
      "text/html": [
       "<div>\n",
       "<style scoped>\n",
       "    .dataframe tbody tr th:only-of-type {\n",
       "        vertical-align: middle;\n",
       "    }\n",
       "\n",
       "    .dataframe tbody tr th {\n",
       "        vertical-align: top;\n",
       "    }\n",
       "\n",
       "    .dataframe thead th {\n",
       "        text-align: right;\n",
       "    }\n",
       "</style>\n",
       "<table border=\"1\" class=\"dataframe\">\n",
       "  <thead>\n",
       "    <tr style=\"text-align: right;\">\n",
       "      <th>Sex</th>\n",
       "      <th>STATE</th>\n",
       "      <th>Age Range</th>\n",
       "      <th>Females</th>\n",
       "      <th>Males</th>\n",
       "      <th>Persons</th>\n",
       "    </tr>\n",
       "  </thead>\n",
       "  <tbody>\n",
       "    <tr>\n",
       "      <th>0</th>\n",
       "      <td>ACT</td>\n",
       "      <td>24 and Under</td>\n",
       "      <td>26465</td>\n",
       "      <td>29531</td>\n",
       "      <td>27863</td>\n",
       "    </tr>\n",
       "    <tr>\n",
       "      <th>1</th>\n",
       "      <td>ACT</td>\n",
       "      <td>25 to 34</td>\n",
       "      <td>64913</td>\n",
       "      <td>71465</td>\n",
       "      <td>68212</td>\n",
       "    </tr>\n",
       "    <tr>\n",
       "      <th>2</th>\n",
       "      <td>ACT</td>\n",
       "      <td>35 to 44</td>\n",
       "      <td>79387</td>\n",
       "      <td>100005</td>\n",
       "      <td>89617</td>\n",
       "    </tr>\n",
       "    <tr>\n",
       "      <th>3</th>\n",
       "      <td>ACT</td>\n",
       "      <td>45 to 54</td>\n",
       "      <td>87520</td>\n",
       "      <td>109828</td>\n",
       "      <td>97089</td>\n",
       "    </tr>\n",
       "    <tr>\n",
       "      <th>4</th>\n",
       "      <td>ACT</td>\n",
       "      <td>55 to 64</td>\n",
       "      <td>74100</td>\n",
       "      <td>97990</td>\n",
       "      <td>84993</td>\n",
       "    </tr>\n",
       "  </tbody>\n",
       "</table>\n",
       "</div>"
      ],
      "text/plain": [
       "Sex STATE     Age Range  Females   Males  Persons\n",
       "0     ACT  24 and Under    26465   29531    27863\n",
       "1     ACT      25 to 34    64913   71465    68212\n",
       "2     ACT      35 to 44    79387  100005    89617\n",
       "3     ACT      45 to 54    87520  109828    97089\n",
       "4     ACT      55 to 64    74100   97990    84993"
      ]
     },
     "execution_count": 94,
     "metadata": {},
     "output_type": "execute_result"
    }
   ],
   "source": [
    "new_df.to_excel('2020_median_income.xlsx')\n",
    "new_df.head()"
   ]
  },
  {
   "cell_type": "code",
   "execution_count": null,
   "metadata": {},
   "outputs": [],
   "source": [
    "ssh -i /path/to/your/private-key.pem ec2-user@your-instance-public-ip"
   ]
  }
 ],
 "metadata": {
  "kernelspec": {
   "display_name": "base",
   "language": "python",
   "name": "python3"
  },
  "language_info": {
   "codemirror_mode": {
    "name": "ipython",
    "version": 3
   },
   "file_extension": ".py",
   "mimetype": "text/x-python",
   "name": "python",
   "nbconvert_exporter": "python",
   "pygments_lexer": "ipython3",
   "version": "3.8.8"
  },
  "orig_nbformat": 4
 },
 "nbformat": 4,
 "nbformat_minor": 2
}
