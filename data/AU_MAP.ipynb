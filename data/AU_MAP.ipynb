{
 "cells": [
  {
   "cell_type": "code",
   "execution_count": 121,
   "metadata": {},
   "outputs": [],
   "source": [
    "import pandas as pd\n",
    "import numpy as np\n",
    "\n",
    "# Read the 'Sheet1' sheet from the Excel file\n",
    "df = pd.read_excel('Employee jobs and employee income.xlsx', sheet_name='Table 2.5')"
   ]
  },
  {
   "cell_type": "code",
   "execution_count": 122,
   "metadata": {},
   "outputs": [],
   "source": [
    "df_selected = df[4:2304]\n",
    "df_selected = df_selected.reset_index(drop=True)"
   ]
  },
  {
   "cell_type": "code",
   "execution_count": 123,
   "metadata": {},
   "outputs": [],
   "source": [
    "NSW_row_num = df_selected.index[df_selected[df_selected.columns[0]] == 'New South Wales'][0]\n",
    "VIC_row_num = df_selected.index[df_selected[df_selected.columns[0]] == 'Victoria'][0]\n",
    "QLD_row_num = df_selected.index[df_selected[df_selected.columns[0]] == 'Queensland'][0]\n",
    "SA_row_num = df_selected.index[df_selected[df_selected.columns[0]] == 'South Australia'][0]\n",
    "WA_num = df_selected.index[df_selected[df_selected.columns[0]] == 'Western Australia'][0]\n",
    "TAS_row_num = df_selected.index[df_selected[df_selected.columns[0]] == 'Tasmania'][0]\n",
    "NT_row_num = df_selected.index[df_selected[df_selected.columns[0]] == 'Northern Territory'][0]\n",
    "ACT_row_num = df_selected.index[df_selected[df_selected.columns[0]] == 'Australian Capital Territory'][0]"
   ]
  },
  {
   "cell_type": "code",
   "execution_count": 124,
   "metadata": {},
   "outputs": [],
   "source": [
    "def custom_conversion(value):\n",
    "    # Remove commas from the string\n",
    "    value = str(value).replace(',', '')\n",
    "    \n",
    "    # Check if the string is a numeric value\n",
    "    if value.isdigit():\n",
    "        return int(value)\n",
    "    else:\n",
    "        return 0"
   ]
  },
  {
   "cell_type": "code",
   "execution_count": 125,
   "metadata": {},
   "outputs": [],
   "source": [
    "NSW_data = df_selected[NSW_row_num:VIC_row_num]\n",
    "\n",
    "VIC_data = df_selected[VIC_row_num:QLD_row_num]\n",
    "\n",
    "QLD_data = df_selected[QLD_row_num:SA_row_num]\n",
    "\n",
    "SA_data = df_selected[SA_row_num:WA_num]\n",
    "\n",
    "WA_data = df_selected[WA_num:TAS_row_num]\n",
    "\n",
    "TAS_data = df_selected[TAS_row_num:NT_row_num]\n",
    "\n",
    "NT_DATA = df_selected[NT_row_num:ACT_row_num]\n",
    "\n",
    "ACT_DATA = df_selected[ACT_row_num:]\n",
    "\n",
    "df_list = [NSW_data, VIC_data,QLD_data, SA_data, WA_data, TAS_data, NT_DATA, ACT_DATA]\n",
    "\n",
    "for i in range(len(df_list)):\n",
    "    df_list[i] = df_list[i].reset_index(drop=True)\n",
    "    df_list[i].loc[0, 'Unnamed: 1'] = df_list[i].loc[0, df_list[i].columns[0]]\n",
    "    df_list[i] = df_list[i].drop(df_list[i].columns[0], axis=1)\n",
    "    df_list[i] = df_list[i].rename(columns={'Unnamed: 1': 'Location'})\n",
    "    df_list[i]['Unnamed: 21'] = df_list[i]['Unnamed: 21'].apply(custom_conversion)\n",
    "    df_list[i]['Unnamed: 26'] = df_list[i]['Unnamed: 26'].apply(custom_conversion)"
   ]
  },
  {
   "cell_type": "code",
   "execution_count": 126,
   "metadata": {},
   "outputs": [
    {
     "name": "stderr",
     "output_type": "stream",
     "text": [
      "<ipython-input-126-85d8edf7c64b>:2: SettingWithCopyWarning: \n",
      "A value is trying to be set on a copy of a slice from a DataFrame.\n",
      "Try using .loc[row_indexer,col_indexer] = value instead\n",
      "\n",
      "See the caveats in the documentation: https://pandas.pydata.org/pandas-docs/stable/user_guide/indexing.html#returning-a-view-versus-a-copy\n",
      "  NSW_data['STATE'] = 'NSW'\n",
      "f:\\pycharm\\lib\\site-packages\\pandas\\core\\frame.py:4441: SettingWithCopyWarning: \n",
      "A value is trying to be set on a copy of a slice from a DataFrame\n",
      "\n",
      "See the caveats in the documentation: https://pandas.pydata.org/pandas-docs/stable/user_guide/indexing.html#returning-a-view-versus-a-copy\n",
      "  return super().rename(\n",
      "<ipython-input-126-85d8edf7c64b>:9: SettingWithCopyWarning: \n",
      "A value is trying to be set on a copy of a slice from a DataFrame.\n",
      "Try using .loc[row_indexer,col_indexer] = value instead\n",
      "\n",
      "See the caveats in the documentation: https://pandas.pydata.org/pandas-docs/stable/user_guide/indexing.html#returning-a-view-versus-a-copy\n",
      "  VIC_data['STATE'] = 'VIC'\n",
      "<ipython-input-126-85d8edf7c64b>:15: SettingWithCopyWarning: \n",
      "A value is trying to be set on a copy of a slice from a DataFrame.\n",
      "Try using .loc[row_indexer,col_indexer] = value instead\n",
      "\n",
      "See the caveats in the documentation: https://pandas.pydata.org/pandas-docs/stable/user_guide/indexing.html#returning-a-view-versus-a-copy\n",
      "  QLD_data['STATE'] = 'QLD'\n",
      "<ipython-input-126-85d8edf7c64b>:21: SettingWithCopyWarning: \n",
      "A value is trying to be set on a copy of a slice from a DataFrame.\n",
      "Try using .loc[row_indexer,col_indexer] = value instead\n",
      "\n",
      "See the caveats in the documentation: https://pandas.pydata.org/pandas-docs/stable/user_guide/indexing.html#returning-a-view-versus-a-copy\n",
      "  SA_data['STATE'] = 'SA'\n",
      "<ipython-input-126-85d8edf7c64b>:27: SettingWithCopyWarning: \n",
      "A value is trying to be set on a copy of a slice from a DataFrame.\n",
      "Try using .loc[row_indexer,col_indexer] = value instead\n",
      "\n",
      "See the caveats in the documentation: https://pandas.pydata.org/pandas-docs/stable/user_guide/indexing.html#returning-a-view-versus-a-copy\n",
      "  WA_data['STATE'] = 'WA'\n",
      "<ipython-input-126-85d8edf7c64b>:33: SettingWithCopyWarning: \n",
      "A value is trying to be set on a copy of a slice from a DataFrame.\n",
      "Try using .loc[row_indexer,col_indexer] = value instead\n",
      "\n",
      "See the caveats in the documentation: https://pandas.pydata.org/pandas-docs/stable/user_guide/indexing.html#returning-a-view-versus-a-copy\n",
      "  TAS_data['STATE'] = 'TAS'\n",
      "<ipython-input-126-85d8edf7c64b>:39: SettingWithCopyWarning: \n",
      "A value is trying to be set on a copy of a slice from a DataFrame.\n",
      "Try using .loc[row_indexer,col_indexer] = value instead\n",
      "\n",
      "See the caveats in the documentation: https://pandas.pydata.org/pandas-docs/stable/user_guide/indexing.html#returning-a-view-versus-a-copy\n",
      "  NT_DATA['STATE'] = 'NT'\n",
      "<ipython-input-126-85d8edf7c64b>:45: SettingWithCopyWarning: \n",
      "A value is trying to be set on a copy of a slice from a DataFrame.\n",
      "Try using .loc[row_indexer,col_indexer] = value instead\n",
      "\n",
      "See the caveats in the documentation: https://pandas.pydata.org/pandas-docs/stable/user_guide/indexing.html#returning-a-view-versus-a-copy\n",
      "  ACT_DATA['STATE'] = 'ACT'\n"
     ]
    }
   ],
   "source": [
    "NSW_data = df_list[0][['Location', 'Unnamed: 21', 'Unnamed: 26']]\n",
    "NSW_data['STATE'] = 'NSW'\n",
    "NSW_data.rename(columns={'Unnamed: 21': 'male_median_salary', 'Unnamed: 26': 'female_median_salary'}, inplace=True)\n",
    "NSW_data = NSW_data.astype({'male_median_salary': int, 'female_median_salary': int})\n",
    "NSW_data['gender_pay_gap'] = ((NSW_data['male_median_salary'] - NSW_data['female_median_salary']) / NSW_data['male_median_salary']) * 100\n",
    "\n",
    "\n",
    "VIC_data = df_list[1][['Location', 'Unnamed: 21', 'Unnamed: 26']]\n",
    "VIC_data['STATE'] = 'VIC'\n",
    "VIC_data.rename(columns={'Unnamed: 21': 'male_median_salary', 'Unnamed: 26': 'female_median_salary'}, inplace=True)\n",
    "VIC_data = VIC_data.astype({'male_median_salary': int, 'female_median_salary': int})\n",
    "VIC_data['gender_pay_gap'] = ((VIC_data['male_median_salary'] - VIC_data['female_median_salary']) / VIC_data['male_median_salary']) * 100\n",
    "\n",
    "QLD_data = df_list[2][['Location', 'Unnamed: 21', 'Unnamed: 26']]\n",
    "QLD_data['STATE'] = 'QLD'\n",
    "QLD_data.rename(columns={'Unnamed: 21': 'male_median_salary', 'Unnamed: 26': 'female_median_salary'}, inplace=True)\n",
    "QLD_data = QLD_data.astype({'male_median_salary': int, 'female_median_salary': int})\n",
    "QLD_data['gender_pay_gap'] = ((QLD_data['male_median_salary'] - QLD_data['female_median_salary']) / QLD_data['male_median_salary']) * 100\n",
    "\n",
    "SA_data = df_list[3][['Location', 'Unnamed: 21', 'Unnamed: 26']]\n",
    "SA_data['STATE'] = 'SA'\n",
    "SA_data.rename(columns={'Unnamed: 21': 'male_median_salary', 'Unnamed: 26': 'female_median_salary'}, inplace=True)\n",
    "SA_data = SA_data.astype({'male_median_salary': int, 'female_median_salary': int})\n",
    "SA_data['gender_pay_gap'] = ((SA_data['male_median_salary'] - SA_data['female_median_salary']) / SA_data['male_median_salary']) * 100\n",
    "\n",
    "WA_data = df_list[4][['Location', 'Unnamed: 21', 'Unnamed: 26']]\n",
    "WA_data['STATE'] = 'WA'\n",
    "WA_data.rename(columns={'Unnamed: 21': 'male_median_salary', 'Unnamed: 26': 'female_median_salary'}, inplace=True)\n",
    "WA_data = WA_data.astype({'male_median_salary': int, 'female_median_salary': int})\n",
    "WA_data['gender_pay_gap'] = ((WA_data['male_median_salary'] - WA_data['female_median_salary']) / WA_data['male_median_salary']) * 100\n",
    "\n",
    "TAS_data = df_list[5][['Location', 'Unnamed: 21', 'Unnamed: 26']]\n",
    "TAS_data['STATE'] = 'TAS'\n",
    "TAS_data.rename(columns={'Unnamed: 21': 'male_median_salary', 'Unnamed: 26': 'female_median_salary'}, inplace=True)\n",
    "TAS_data = TAS_data.astype({'male_median_salary': int, 'female_median_salary': int})\n",
    "TAS_data['gender_pay_gap'] = ((TAS_data['male_median_salary'] - TAS_data['female_median_salary']) / TAS_data['male_median_salary']) * 100\n",
    "\n",
    "NT_DATA = df_list[6][['Location', 'Unnamed: 21', 'Unnamed: 26']]\n",
    "NT_DATA['STATE'] = 'NT'\n",
    "NT_DATA.rename(columns={'Unnamed: 21': 'male_median_salary', 'Unnamed: 26': 'female_median_salary'}, inplace=True)\n",
    "NT_DATA = NT_DATA.astype({'male_median_salary': int, 'female_median_salary': int})\n",
    "NT_DATA['gender_pay_gap'] = ((NT_DATA['male_median_salary'] - NT_DATA['female_median_salary']) / NT_DATA['male_median_salary']) * 100\n",
    "\n",
    "ACT_DATA = df_list[7][['Location', 'Unnamed: 21', 'Unnamed: 26']]\n",
    "ACT_DATA['STATE'] = 'ACT'\n",
    "ACT_DATA.rename(columns={'Unnamed: 21': 'male_median_salary', 'Unnamed: 26': 'female_median_salary'}, inplace=True)\n",
    "ACT_DATA = ACT_DATA.astype({'male_median_salary': int, 'female_median_salary': int})\n",
    "ACT_DATA['gender_pay_gap'] = ((ACT_DATA['male_median_salary'] - ACT_DATA['female_median_salary']) / ACT_DATA['male_median_salary']) * 100\n"
   ]
  },
  {
   "cell_type": "code",
   "execution_count": 127,
   "metadata": {},
   "outputs": [],
   "source": [
    "def replace_negative_and_inf(value):\n",
    "    if value < 0 or np.isinf(value) or  value == 100:\n",
    "        return 0\n",
    "    else:\n",
    "        return value"
   ]
  },
  {
   "cell_type": "code",
   "execution_count": 145,
   "metadata": {},
   "outputs": [],
   "source": [
    "df_list = [NSW_data, VIC_data,QLD_data, SA_data, WA_data, TAS_data, NT_DATA, ACT_DATA]\n",
    "df = pd.concat(df_list, axis =0)\n",
    "df['gender_pay_gap'] = df['gender_pay_gap'].apply(replace_negative_and_inf)\n",
    "df = df.reset_index(drop=True)\n",
    "df = df[df['gender_pay_gap'] != 0]\n",
    "df = df.dropna(subset=['gender_pay_gap'])\n",
    "df = df.reset_index(drop=True)\n",
    "df = df.rename(columns={'STATE': 'state', 'Location':'location'})\n",
    "list_of_dicts = df.to_dict(orient='records')"
   ]
  },
  {
   "cell_type": "code",
   "execution_count": 146,
   "metadata": {},
   "outputs": [],
   "source": [
    "import json\n",
    "def format_dict_without_quotes(d):\n",
    "    formatted_dict = '{' + ', '.join(f'{key}: {json.dumps(value)}' for key, value in d.items()) + '}'\n",
    "    return formatted_dict"
   ]
  },
  {
   "cell_type": "code",
   "execution_count": 147,
   "metadata": {},
   "outputs": [],
   "source": [
    "\n",
    "# Serialize the list of dictionaries as a JSON-formatted string\n",
    "list_of_dicts_json = json.dumps(list_of_dicts)\n",
    "\n",
    "# Write the JSON-formatted string to a text file\n",
    "with open('java_data.txt', 'w') as file:\n",
    "    file.write('[\\n')\n",
    "    for record in list_of_dicts:\n",
    "        file.write('    ')\n",
    "        file.write(format_dict_without_quotes(record) + ', \\n')\n",
    "    file.write('];')"
   ]
  },
  {
   "attachments": {},
   "cell_type": "markdown",
   "metadata": {},
   "source": [
    "I want to display a bar chart of female_median_salary and male_median_salary, female bar in red color, male bar in blue color when click compare salary. also indicate the pay gap, add hover function to the plot. the plot should be on the right of search bars\n",
    "\n",
    "modify my code and output full script\n",
    "\n",
    "\n"
   ]
  },
  {
   "cell_type": "code",
   "execution_count": null,
   "metadata": {},
   "outputs": [],
   "source": []
  }
 ],
 "metadata": {
  "kernelspec": {
   "display_name": "base",
   "language": "python",
   "name": "python3"
  },
  "language_info": {
   "codemirror_mode": {
    "name": "ipython",
    "version": 3
   },
   "file_extension": ".py",
   "mimetype": "text/x-python",
   "name": "python",
   "nbconvert_exporter": "python",
   "pygments_lexer": "ipython3",
   "version": "3.8.8"
  },
  "orig_nbformat": 4
 },
 "nbformat": 4,
 "nbformat_minor": 2
}
