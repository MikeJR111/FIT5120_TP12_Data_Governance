{
 "cells": [
  {
   "cell_type": "code",
   "execution_count": 1,
   "metadata": {},
   "outputs": [],
   "source": [
    "import pandas as pd"
   ]
  },
  {
   "attachments": {},
   "cell_type": "markdown",
   "metadata": {},
   "source": [
    "1. Transform state_data.xlsx"
   ]
  },
  {
   "cell_type": "code",
   "execution_count": 46,
   "metadata": {},
   "outputs": [],
   "source": [
    "G = ['Male '*5,'Female '*5,'Person '*5]\n",
    "Gender = []\n",
    "for gender in G:\n",
    "    l = gender.split(' ')\n",
    "    for g in l:\n",
    "        if len(g) != 0 :\n",
    "            Gender.append(g)\n",
    "Gender = Gender*3\n",
    "job = ['Number of Jobs'] * 15\n",
    "income = ['Median Income per Job'] * 15\n",
    "adjusted_income = ['Duration Adjusted Income per Job']*15\n",
    "Category= []\n",
    "Category.extend(job)\n",
    "Category.extend(income)\n",
    "Category.extend(adjusted_income)\n"
   ]
  },
  {
   "cell_type": "code",
   "execution_count": 47,
   "metadata": {},
   "outputs": [],
   "source": [
    "newData = pd.read_excel('state_data.xlsx', sheet_name='Sheet1')\n",
    "newData = newData.drop(['Unnamed: 1'], axis=1)\n",
    "df_transposed = newData.T\n",
    "df_transposed.columns = df_transposed.iloc[0]\n",
    "df_transposed = df_transposed[1:]\n",
    "col = df_transposed.columns.tolist()\n",
    "col[0] = 'Year'\n",
    "df_transposed.columns = col\n",
    "df_transposed['Gender'] = Gender\n",
    "df_transposed['Category'] = Category\n",
    "df_transposed.reset_index(drop=True)\n",
    "df_transposed.index = range(len(df_transposed.index))"
   ]
  },
  {
   "cell_type": "code",
   "execution_count": 59,
   "metadata": {},
   "outputs": [],
   "source": [
    "df_transposed.to_excel('output.xlsx')"
   ]
  },
  {
   "cell_type": "code",
   "execution_count": 69,
   "metadata": {},
   "outputs": [],
   "source": [
    "states = df_transposed.columns[2:10].tolist()\n",
    "state_abbreviations_list  = ['NSW', 'VIC', 'QLD', 'SA', 'WA', 'TAS', 'NT', 'ACT']"
   ]
  },
  {
   "cell_type": "code",
   "execution_count": 70,
   "metadata": {},
   "outputs": [
    {
     "name": "stderr",
     "output_type": "stream",
     "text": [
      "<ipython-input-70-ac72df8564cf>:6: SettingWithCopyWarning: \n",
      "A value is trying to be set on a copy of a slice from a DataFrame.\n",
      "Try using .loc[row_indexer,col_indexer] = value instead\n",
      "\n",
      "See the caveats in the documentation: https://pandas.pydata.org/pandas-docs/stable/user_guide/indexing.html#returning-a-view-versus-a-copy\n",
      "  df['State'] = state_abbreviations_list[i]\n"
     ]
    }
   ],
   "source": [
    "dfs = []\n",
    "\n",
    "for i in range(len(states)):\n",
    "    df = df_transposed[[states[i],'Year','Category','Gender']]\n",
    "    df.columns = ['Value','Year','Category','Gender']\n",
    "    df['State'] = state_abbreviations_list[i]\n",
    "    dfs.append(df)\n"
   ]
  },
  {
   "cell_type": "code",
   "execution_count": 86,
   "metadata": {},
   "outputs": [],
   "source": [
    "df = pd.concat(dfs)\n",
    "df.to_excel('output.xlsx',index=False)"
   ]
  },
  {
   "attachments": {},
   "cell_type": "markdown",
   "metadata": {},
   "source": [
    "3. Transform state2.xlsx"
   ]
  },
  {
   "cell_type": "code",
   "execution_count": 90,
   "metadata": {},
   "outputs": [
    {
     "data": {
      "text/plain": [
       "'2019-20'"
      ]
     },
     "execution_count": 90,
     "metadata": {},
     "output_type": "execute_result"
    }
   ],
   "source": [
    "newData = pd.read_excel('state2.xlsx')\n",
    "newData = newData.drop(['STATE NAME'], axis=1)\n",
    "newData.columns[-1]"
   ]
  },
  {
   "cell_type": "code",
   "execution_count": 91,
   "metadata": {},
   "outputs": [],
   "source": [
    "new_df = newData.pivot_table(index=['STATE', 'Age Range'], columns='Sex', values='2019-20').reset_index()"
   ]
  },
  {
   "cell_type": "code",
   "execution_count": 94,
   "metadata": {},
   "outputs": [
    {
     "data": {
      "text/html": [
       "<div>\n",
       "<style scoped>\n",
       "    .dataframe tbody tr th:only-of-type {\n",
       "        vertical-align: middle;\n",
       "    }\n",
       "\n",
       "    .dataframe tbody tr th {\n",
       "        vertical-align: top;\n",
       "    }\n",
       "\n",
       "    .dataframe thead th {\n",
       "        text-align: right;\n",
       "    }\n",
       "</style>\n",
       "<table border=\"1\" class=\"dataframe\">\n",
       "  <thead>\n",
       "    <tr style=\"text-align: right;\">\n",
       "      <th>Sex</th>\n",
       "      <th>STATE</th>\n",
       "      <th>Age Range</th>\n",
       "      <th>Females</th>\n",
       "      <th>Males</th>\n",
       "      <th>Persons</th>\n",
       "    </tr>\n",
       "  </thead>\n",
       "  <tbody>\n",
       "    <tr>\n",
       "      <th>0</th>\n",
       "      <td>ACT</td>\n",
       "      <td>24 and Under</td>\n",
       "      <td>26465</td>\n",
       "      <td>29531</td>\n",
       "      <td>27863</td>\n",
       "    </tr>\n",
       "    <tr>\n",
       "      <th>1</th>\n",
       "      <td>ACT</td>\n",
       "      <td>25 to 34</td>\n",
       "      <td>64913</td>\n",
       "      <td>71465</td>\n",
       "      <td>68212</td>\n",
       "    </tr>\n",
       "    <tr>\n",
       "      <th>2</th>\n",
       "      <td>ACT</td>\n",
       "      <td>35 to 44</td>\n",
       "      <td>79387</td>\n",
       "      <td>100005</td>\n",
       "      <td>89617</td>\n",
       "    </tr>\n",
       "    <tr>\n",
       "      <th>3</th>\n",
       "      <td>ACT</td>\n",
       "      <td>45 to 54</td>\n",
       "      <td>87520</td>\n",
       "      <td>109828</td>\n",
       "      <td>97089</td>\n",
       "    </tr>\n",
       "    <tr>\n",
       "      <th>4</th>\n",
       "      <td>ACT</td>\n",
       "      <td>55 to 64</td>\n",
       "      <td>74100</td>\n",
       "      <td>97990</td>\n",
       "      <td>84993</td>\n",
       "    </tr>\n",
       "  </tbody>\n",
       "</table>\n",
       "</div>"
      ],
      "text/plain": [
       "Sex STATE     Age Range  Females   Males  Persons\n",
       "0     ACT  24 and Under    26465   29531    27863\n",
       "1     ACT      25 to 34    64913   71465    68212\n",
       "2     ACT      35 to 44    79387  100005    89617\n",
       "3     ACT      45 to 54    87520  109828    97089\n",
       "4     ACT      55 to 64    74100   97990    84993"
      ]
     },
     "execution_count": 94,
     "metadata": {},
     "output_type": "execute_result"
    }
   ],
   "source": [
    "new_df.to_excel('2020_median_income.xlsx')\n",
    "new_df.head()"
   ]
  },
  {
   "attachments": {},
   "cell_type": "markdown",
   "metadata": {},
   "source": [
    "3. Transform Employee jobs and employee income.xlsx"
   ]
  },
  {
   "cell_type": "code",
   "execution_count": null,
   "metadata": {},
   "outputs": [],
   "source": [
    "# Read the 'Sheet1' sheet from the Excel file\n",
    "df = pd.read_excel('Employee jobs and employee income.xlsx', sheet_name='Table 2.5')\n",
    "df_selected = df[4:2304]\n",
    "df_selected = df_selected.reset_index(drop=True)\n",
    "NSW_row_num = df_selected.index[df_selected[df_selected.columns[0]] == 'New South Wales'][0]\n",
    "VIC_row_num = df_selected.index[df_selected[df_selected.columns[0]] == 'Victoria'][0]\n",
    "QLD_row_num = df_selected.index[df_selected[df_selected.columns[0]] == 'Queensland'][0]\n",
    "SA_row_num = df_selected.index[df_selected[df_selected.columns[0]] == 'South Australia'][0]\n",
    "WA_num = df_selected.index[df_selected[df_selected.columns[0]] == 'Western Australia'][0]\n",
    "TAS_row_num = df_selected.index[df_selected[df_selected.columns[0]] == 'Tasmania'][0]\n",
    "NT_row_num = df_selected.index[df_selected[df_selected.columns[0]] == 'Northern Territory'][0]\n",
    "ACT_row_num = df_selected.index[df_selected[df_selected.columns[0]] == 'Australian Capital Territory'][0]\n",
    "\n"
   ]
  },
  {
   "cell_type": "code",
   "execution_count": null,
   "metadata": {},
   "outputs": [],
   "source": [
    "def custom_conversion(value):\n",
    "    # Remove commas from the string\n",
    "    value = str(value).replace(',', '')\n",
    "    \n",
    "    # Check if the string is a numeric value\n",
    "    if value.isdigit():\n",
    "        return int(value)\n",
    "    else:\n",
    "        return 0"
   ]
  },
  {
   "cell_type": "code",
   "execution_count": null,
   "metadata": {},
   "outputs": [],
   "source": [
    "NSW_data = df_selected[NSW_row_num:VIC_row_num]\n",
    "\n",
    "VIC_data = df_selected[VIC_row_num:QLD_row_num]\n",
    "\n",
    "QLD_data = df_selected[QLD_row_num:SA_row_num]\n",
    "\n",
    "SA_data = df_selected[SA_row_num:WA_num]\n",
    "\n",
    "WA_data = df_selected[WA_num:TAS_row_num]\n",
    "\n",
    "TAS_data = df_selected[TAS_row_num:NT_row_num]\n",
    "\n",
    "NT_DATA = df_selected[NT_row_num:ACT_row_num]\n",
    "\n",
    "ACT_DATA = df_selected[ACT_row_num:]\n",
    "\n",
    "df_list = [NSW_data, VIC_data,QLD_data, SA_data, WA_data, TAS_data, NT_DATA, ACT_DATA]\n",
    "\n",
    "for i in range(len(df_list)):\n",
    "    df_list[i] = df_list[i].reset_index(drop=True)\n",
    "    df_list[i].loc[0, 'Unnamed: 1'] = df_list[i].loc[0, df_list[i].columns[0]]\n",
    "    df_list[i] = df_list[i].drop(df_list[i].columns[0], axis=1)\n",
    "    df_list[i] = df_list[i].rename(columns={'Unnamed: 1': 'Location'})\n",
    "    df_list[i]['Unnamed: 21'] = df_list[i]['Unnamed: 21'].apply(custom_conversion)\n",
    "    df_list[i]['Unnamed: 26'] = df_list[i]['Unnamed: 26'].apply(custom_conversion)"
   ]
  },
  {
   "cell_type": "code",
   "execution_count": null,
   "metadata": {},
   "outputs": [],
   "source": [
    "NSW_data = df_list[0][['Location', 'Unnamed: 21', 'Unnamed: 26']]\n",
    "NSW_data['STATE'] = 'NSW'\n",
    "NSW_data.rename(columns={'Unnamed: 21': 'male_median_salary', 'Unnamed: 26': 'female_median_salary'}, inplace=True)\n",
    "NSW_data = NSW_data.astype({'male_median_salary': int, 'female_median_salary': int})\n",
    "NSW_data['gender_pay_gap'] = ((NSW_data['male_median_salary'] - NSW_data['female_median_salary']) / NSW_data['male_median_salary']) * 100\n",
    "\n",
    "\n",
    "VIC_data = df_list[1][['Location', 'Unnamed: 21', 'Unnamed: 26']]\n",
    "VIC_data['STATE'] = 'VIC'\n",
    "VIC_data.rename(columns={'Unnamed: 21': 'male_median_salary', 'Unnamed: 26': 'female_median_salary'}, inplace=True)\n",
    "VIC_data = VIC_data.astype({'male_median_salary': int, 'female_median_salary': int})\n",
    "VIC_data['gender_pay_gap'] = ((VIC_data['male_median_salary'] - VIC_data['female_median_salary']) / VIC_data['male_median_salary']) * 100\n",
    "\n",
    "QLD_data = df_list[2][['Location', 'Unnamed: 21', 'Unnamed: 26']]\n",
    "QLD_data['STATE'] = 'QLD'\n",
    "QLD_data.rename(columns={'Unnamed: 21': 'male_median_salary', 'Unnamed: 26': 'female_median_salary'}, inplace=True)\n",
    "QLD_data = QLD_data.astype({'male_median_salary': int, 'female_median_salary': int})\n",
    "QLD_data['gender_pay_gap'] = ((QLD_data['male_median_salary'] - QLD_data['female_median_salary']) / QLD_data['male_median_salary']) * 100\n",
    "\n",
    "SA_data = df_list[3][['Location', 'Unnamed: 21', 'Unnamed: 26']]\n",
    "SA_data['STATE'] = 'SA'\n",
    "SA_data.rename(columns={'Unnamed: 21': 'male_median_salary', 'Unnamed: 26': 'female_median_salary'}, inplace=True)\n",
    "SA_data = SA_data.astype({'male_median_salary': int, 'female_median_salary': int})\n",
    "SA_data['gender_pay_gap'] = ((SA_data['male_median_salary'] - SA_data['female_median_salary']) / SA_data['male_median_salary']) * 100\n",
    "\n",
    "WA_data = df_list[4][['Location', 'Unnamed: 21', 'Unnamed: 26']]\n",
    "WA_data['STATE'] = 'WA'\n",
    "WA_data.rename(columns={'Unnamed: 21': 'male_median_salary', 'Unnamed: 26': 'female_median_salary'}, inplace=True)\n",
    "WA_data = WA_data.astype({'male_median_salary': int, 'female_median_salary': int})\n",
    "WA_data['gender_pay_gap'] = ((WA_data['male_median_salary'] - WA_data['female_median_salary']) / WA_data['male_median_salary']) * 100\n",
    "\n",
    "TAS_data = df_list[5][['Location', 'Unnamed: 21', 'Unnamed: 26']]\n",
    "TAS_data['STATE'] = 'TAS'\n",
    "TAS_data.rename(columns={'Unnamed: 21': 'male_median_salary', 'Unnamed: 26': 'female_median_salary'}, inplace=True)\n",
    "TAS_data = TAS_data.astype({'male_median_salary': int, 'female_median_salary': int})\n",
    "TAS_data['gender_pay_gap'] = ((TAS_data['male_median_salary'] - TAS_data['female_median_salary']) / TAS_data['male_median_salary']) * 100\n",
    "\n",
    "NT_DATA = df_list[6][['Location', 'Unnamed: 21', 'Unnamed: 26']]\n",
    "NT_DATA['STATE'] = 'NT'\n",
    "NT_DATA.rename(columns={'Unnamed: 21': 'male_median_salary', 'Unnamed: 26': 'female_median_salary'}, inplace=True)\n",
    "NT_DATA = NT_DATA.astype({'male_median_salary': int, 'female_median_salary': int})\n",
    "NT_DATA['gender_pay_gap'] = ((NT_DATA['male_median_salary'] - NT_DATA['female_median_salary']) / NT_DATA['male_median_salary']) * 100\n",
    "\n",
    "ACT_DATA = df_list[7][['Location', 'Unnamed: 21', 'Unnamed: 26']]\n",
    "ACT_DATA['STATE'] = 'ACT'\n",
    "ACT_DATA.rename(columns={'Unnamed: 21': 'male_median_salary', 'Unnamed: 26': 'female_median_salary'}, inplace=True)\n",
    "ACT_DATA = ACT_DATA.astype({'male_median_salary': int, 'female_median_salary': int})\n",
    "ACT_DATA['gender_pay_gap'] = ((ACT_DATA['male_median_salary'] - ACT_DATA['female_median_salary']) / ACT_DATA['male_median_salary']) * 100"
   ]
  },
  {
   "cell_type": "code",
   "execution_count": null,
   "metadata": {},
   "outputs": [],
   "source": [
    "def replace_negative_and_inf(value):\n",
    "    if value < 0 or np.isinf(value) or  value == 100:\n",
    "        return 0\n",
    "    else:\n",
    "        return value"
   ]
  },
  {
   "cell_type": "code",
   "execution_count": null,
   "metadata": {},
   "outputs": [],
   "source": [
    "df_list = [NSW_data, VIC_data,QLD_data, SA_data, WA_data, TAS_data, NT_DATA, ACT_DATA]\n",
    "df = pd.concat(df_list, axis =0)\n",
    "df['gender_pay_gap'] = df['gender_pay_gap'].apply(replace_negative_and_inf)\n",
    "df = df.reset_index(drop=True)\n",
    "df = df[df['gender_pay_gap'] != 0]\n",
    "df = df.dropna(subset=['gender_pay_gap'])\n",
    "df = df.reset_index(drop=True)\n",
    "df = df.rename(columns={'STATE': 'state', 'Location':'location'})\n",
    "list_of_dicts = df.to_dict(orient='records')"
   ]
  },
  {
   "cell_type": "code",
   "execution_count": null,
   "metadata": {},
   "outputs": [],
   "source": [
    "import json\n",
    "def format_dict_without_quotes(d):\n",
    "    formatted_dict = '{' + ', '.join(f'{key}: {json.dumps(value)}' for key, value in d.items()) + '}'\n",
    "    return formatted_dict"
   ]
  },
  {
   "cell_type": "code",
   "execution_count": null,
   "metadata": {},
   "outputs": [],
   "source": [
    "\n",
    "# Serialize the list of dictionaries as a JSON-formatted string\n",
    "list_of_dicts_json = json.dumps(list_of_dicts)\n",
    "\n",
    "# Write the JSON-formatted string to a text file\n",
    "with open('java_data.txt', 'w') as file:\n",
    "    file.write('[\\n')\n",
    "    for record in list_of_dicts:\n",
    "        file.write('    ')\n",
    "        file.write(format_dict_without_quotes(record) + ', \\n')\n",
    "    file.write('];')"
   ]
  },
  {
   "attachments": {},
   "cell_type": "markdown",
   "metadata": {},
   "source": [
    "4. Full-time non-managerial employees paid at the adult rate, average weekly total cash earnings - industry by sex.xlsx"
   ]
  },
  {
   "cell_type": "code",
   "execution_count": 6,
   "metadata": {},
   "outputs": [],
   "source": [
    "df = pd.read_excel('Full-time non-managerial employees paid at the adult rate, average weekly total cash earnings - industry by sex.xlsx')"
   ]
  },
  {
   "cell_type": "code",
   "execution_count": 7,
   "metadata": {},
   "outputs": [],
   "source": [
    "df_female = df[['INDUSTRY', 'Females ($)']].rename(columns={'Females ($)': 'salary'})\n",
    "df_female['Gender'] = 'F'\n",
    "df_male = df[['INDUSTRY', 'Males ($)']].rename(columns={'Males ($)': 'salary'})\n",
    "df_male['Gender'] = 'M'\n",
    "df = pd.concat([df_female,df_male], axis =0)\n",
    "df.to_csv('industry.csv',index=False)"
   ]
  },
  {
   "cell_type": "code",
   "execution_count": 8,
   "metadata": {},
   "outputs": [],
   "source": [
    "df.to_csv('industry.csv',index=False)"
   ]
  },
  {
   "cell_type": "code",
   "execution_count": 3,
   "metadata": {},
   "outputs": [
    {
     "data": {
      "text/plain": [
       "0.46153846153846156"
      ]
     },
     "execution_count": 3,
     "metadata": {},
     "output_type": "execute_result"
    }
   ],
   "source": [
    "6/13"
   ]
  },
  {
   "cell_type": "code",
   "execution_count": 15,
   "metadata": {},
   "outputs": [],
   "source": [
    "import numpy as np\n",
    "a = np.array([12 , 10, 13, 8,10,12,5])\n",
    "b= np.array([25,12,26,26,12,19,17])"
   ]
  },
  {
   "cell_type": "code",
   "execution_count": 16,
   "metadata": {},
   "outputs": [
    {
     "data": {
      "text/plain": [
       "array([0.48      , 0.83333333, 0.5       , 0.30769231, 0.83333333,\n",
       "       0.63157895, 0.29411765])"
      ]
     },
     "execution_count": 16,
     "metadata": {},
     "output_type": "execute_result"
    }
   ],
   "source": [
    "a/b"
   ]
  },
  {
   "cell_type": "code",
   "execution_count": 13,
   "metadata": {},
   "outputs": [
    {
     "data": {
      "text/plain": [
       "484.0"
      ]
     },
     "execution_count": 13,
     "metadata": {},
     "output_type": "execute_result"
    }
   ],
   "source": [
    "7260.0 * 0.2 /3"
   ]
  },
  {
   "cell_type": "code",
   "execution_count": 17,
   "metadata": {},
   "outputs": [
    {
     "data": {
      "text/plain": [
       "70"
      ]
     },
     "execution_count": 17,
     "metadata": {},
     "output_type": "execute_result"
    }
   ],
   "source": [
    "sum(a)"
   ]
  },
  {
   "cell_type": "code",
   "execution_count": 23,
   "metadata": {},
   "outputs": [
    {
     "data": {
      "text/plain": [
       "108.75"
      ]
     },
     "execution_count": 23,
     "metadata": {},
     "output_type": "execute_result"
    }
   ],
   "source": [
    "183.75 * ((12 + 2.5)/70)/0.35"
   ]
  },
  {
   "cell_type": "code",
   "execution_count": 28,
   "metadata": {},
   "outputs": [
    {
     "data": {
      "text/plain": [
       "0.5204081632653061"
      ]
     },
     "execution_count": 28,
     "metadata": {},
     "output_type": "execute_result"
    }
   ],
   "source": [
    "((12 + 0.75)/70)/0.35"
   ]
  },
  {
   "cell_type": "code",
   "execution_count": 33,
   "metadata": {},
   "outputs": [
    {
     "data": {
      "text/plain": [
       "88.125"
      ]
     },
     "execution_count": 33,
     "metadata": {},
     "output_type": "execute_result"
    }
   ],
   "source": [
    "183.75 * (1 - 0.5204081632653061)"
   ]
  },
  {
   "cell_type": "code",
   "execution_count": 27,
   "metadata": {},
   "outputs": [
    {
     "data": {
      "text/plain": [
       "0.75"
      ]
     },
     "execution_count": 27,
     "metadata": {},
     "output_type": "execute_result"
    }
   ],
   "source": [
    "10 * 0.3 * 0.25"
   ]
  },
  {
   "cell_type": "code",
   "execution_count": null,
   "metadata": {},
   "outputs": [],
   "source": []
  }
 ],
 "metadata": {
  "kernelspec": {
   "display_name": "base",
   "language": "python",
   "name": "python3"
  },
  "language_info": {
   "codemirror_mode": {
    "name": "ipython",
    "version": 3
   },
   "file_extension": ".py",
   "mimetype": "text/x-python",
   "name": "python",
   "nbconvert_exporter": "python",
   "pygments_lexer": "ipython3",
   "version": "3.8.8"
  },
  "orig_nbformat": 4
 },
 "nbformat": 4,
 "nbformat_minor": 2
}
